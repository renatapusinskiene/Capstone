{
    "nbformat_minor": 1, 
    "cells": [
        {
            "source": "## NOTEBOOK on IBM Watson Studio shared via GitHub", 
            "cell_type": "markdown", 
            "metadata": {
                "collapsed": true
            }
        }, 
        {
            "source": "This notebook will be used for Applied Data Science Capstone Project week 3 assignment (this is part 2 - adding coordinates to the data framework, as per instructions for 2 points)", 
            "cell_type": "markdown", 
            "metadata": {}
        }, 
        {
            "source": "import pandas as pd\nimport numpy as np\nimport requests\nimport urllib.request\nfrom bs4 import BeautifulSoup\nimport lxml\n\nimport requests # library to handle requests\nfrom pandas.io.json import json_normalize # tranform JSON file into a pandas dataframe\n\n# import k-means from clustering stage\nfrom sklearn.cluster import KMeans\n\n# Matplotlib and associated plotting modules\nimport matplotlib.cm as cm\nimport matplotlib.colors as colors\n\n!conda install -c conda-forge folium=0.5.0 --yes # uncomment this line if you haven't completed the Foursquare API lab\nimport folium # map rendering library\n\n!conda install -c conda-forge geopy --yes # uncomment this line if you haven't completed the Foursquare API lab\nfrom geopy.geocoders import Nominatim # convert an address into latitude and longitude values", 
            "cell_type": "code", 
            "metadata": {}, 
            "outputs": [
                {
                    "output_type": "stream", 
                    "name": "stdout", 
                    "text": "Fetching package metadata .............\nSolving package specifications: .\n\nPackage plan for installation in environment /opt/conda/envs/DSX-Python35:\n\nThe following NEW packages will be INSTALLED:\n\n    altair:  2.2.2-py35_1 conda-forge\n    branca:  0.3.1-py_0   conda-forge\n    folium:  0.5.0-py_0   conda-forge\n    vincent: 0.4.4-py_1   conda-forge\n\naltair-2.2.2-p 100% |################################| Time: 0:00:00  49.35 MB/s\nbranca-0.3.1-p 100% |################################| Time: 0:00:00  35.39 MB/s\nvincent-0.4.4- 100% |################################| Time: 0:00:00  40.05 MB/s\nfolium-0.5.0-p 100% |################################| Time: 0:00:00  44.97 MB/s\nFetching package metadata .............\nSolving package specifications: .\n\nPackage plan for installation in environment /opt/conda/envs/DSX-Python35:\n\nThe following NEW packages will be INSTALLED:\n\n    geographiclib: 1.49-py_0   conda-forge\n    geopy:         1.18.1-py_0 conda-forge\n\ngeographiclib- 100% |################################| Time: 0:00:00  23.94 MB/s\ngeopy-1.18.1-p 100% |################################| Time: 0:00:00  37.18 MB/s\n"
                }
            ], 
            "execution_count": 2
        }, 
        {
            "source": "Setting up the basics:", 
            "cell_type": "markdown", 
            "metadata": {}
        }, 
        {
            "source": "# Data will be retrieved from the given wiki page\nwikipedia_link_to_Canada_postal_codes='https://en.wikipedia.org/wiki/List_of_postal_codes_of_Canada:_M'\n# Request and sava data in 'page' object\npage = requests.get(wikipedia_link_to_Canada_postal_codes)\n# Use 'BeautifulSoup' tool to work with retrieved data\nsoup = BeautifulSoup(page.text, 'lxml')\n# Creating an empty data frame to store the data \ndf = pd.DataFrame()", 
            "cell_type": "code", 
            "metadata": {}, 
            "outputs": [], 
            "execution_count": 3
        }, 
        {
            "source": "Next, the data from the messy page needs to be retrieved. The needed data is in the only table within that page", 
            "cell_type": "markdown", 
            "metadata": {}
        }, 
        {
            "source": "# Finding the table in the page\nmatch_table = soup.find('table', class_='wikitable sortable')\n\n# Needed infrmation first will be collected in lists\nList_PostalCode = []\nList_Borough = []\nList_Neighborhood = []\n\n# The following cyclicly goes through each row of the table and collects information\ni=1\nfor match_element in match_table.find_all('td'):\n    if i==1: List_PostalCode.append(match_element.text)\n    if i==2: List_Borough.append(match_element.text)\n    if i==3: \n        List_Neighborhood.append(match_element.text)\n        i=0\n    i=i+1", 
            "cell_type": "code", 
            "metadata": {}, 
            "outputs": [], 
            "execution_count": 4
        }, 
        {
            "source": "Collected data lists are assigned to the data frame", 
            "cell_type": "markdown", 
            "metadata": {}
        }, 
        {
            "source": "df['PostalCode']=List_PostalCode\ndf['Borough']=List_Borough\ndf['Neighborhood']=List_Neighborhood", 
            "cell_type": "code", 
            "metadata": {}, 
            "outputs": [], 
            "execution_count": 5
        }, 
        {
            "source": "Next, transformations are applied to the data to form the data frame required by this exercise.", 
            "cell_type": "markdown", 
            "metadata": {}
        }, 
        {
            "source": "# Cleaning up neighbouhood names\nfor index, element in df.iterrows():\n    element['Neighborhood']=element['Neighborhood'].strip(\"\\n\")\n\n# Removing rows which do not have Boroughs assigned\n# Where neighbourhoods are not assigned, the Borough name is used\nfor index, element in df.iterrows():\n    if element['Borough'] == 'Not assigned': df=df.drop(index)\n    if element['Neighborhood'] == 'Not assigned': element['Neighborhood']=element['Borough']\n\n# Dataframe is reindexed\ndf = df.reset_index(drop=True)\n\n# Neighborboods under the same Boroughs are merged and separated by commas, as per example\ndf = df.groupby(['PostalCode','Borough'], sort=False, as_index=False).agg(', '.join)", 
            "cell_type": "code", 
            "metadata": {}, 
            "outputs": [], 
            "execution_count": 6
        }, 
        {
            "source": "Verifying that the resulting data frame is as requested per exercise", 
            "cell_type": "markdown", 
            "metadata": {}
        }, 
        {
            "source": "df.head(12)", 
            "cell_type": "code", 
            "metadata": {}, 
            "outputs": [
                {
                    "output_type": "execute_result", 
                    "data": {
                        "text/plain": "   PostalCode           Borough  \\\n0         M3A        North York   \n1         M4A        North York   \n2         M5A  Downtown Toronto   \n3         M6A        North York   \n4         M7A      Queen's Park   \n5         M9A         Etobicoke   \n6         M1B       Scarborough   \n7         M3B        North York   \n8         M4B         East York   \n9         M5B  Downtown Toronto   \n10        M6B        North York   \n11        M9B         Etobicoke   \n\n                                         Neighborhood  \n0                                           Parkwoods  \n1                                    Victoria Village  \n2                           Harbourfront, Regent Park  \n3                    Lawrence Heights, Lawrence Manor  \n4                                        Not assigned  \n5                                    Islington Avenue  \n6                                      Rouge, Malvern  \n7                                     Don Mills North  \n8                     Woodbine Gardens, Parkview Hill  \n9                            Ryerson, Garden District  \n10                                          Glencairn  \n11  Cloverdale, Islington, Martin Grove, Princess ...  ", 
                        "text/html": "<div>\n<style scoped>\n    .dataframe tbody tr th:only-of-type {\n        vertical-align: middle;\n    }\n\n    .dataframe tbody tr th {\n        vertical-align: top;\n    }\n\n    .dataframe thead th {\n        text-align: right;\n    }\n</style>\n<table border=\"1\" class=\"dataframe\">\n  <thead>\n    <tr style=\"text-align: right;\">\n      <th></th>\n      <th>PostalCode</th>\n      <th>Borough</th>\n      <th>Neighborhood</th>\n    </tr>\n  </thead>\n  <tbody>\n    <tr>\n      <th>0</th>\n      <td>M3A</td>\n      <td>North York</td>\n      <td>Parkwoods</td>\n    </tr>\n    <tr>\n      <th>1</th>\n      <td>M4A</td>\n      <td>North York</td>\n      <td>Victoria Village</td>\n    </tr>\n    <tr>\n      <th>2</th>\n      <td>M5A</td>\n      <td>Downtown Toronto</td>\n      <td>Harbourfront, Regent Park</td>\n    </tr>\n    <tr>\n      <th>3</th>\n      <td>M6A</td>\n      <td>North York</td>\n      <td>Lawrence Heights, Lawrence Manor</td>\n    </tr>\n    <tr>\n      <th>4</th>\n      <td>M7A</td>\n      <td>Queen's Park</td>\n      <td>Not assigned</td>\n    </tr>\n    <tr>\n      <th>5</th>\n      <td>M9A</td>\n      <td>Etobicoke</td>\n      <td>Islington Avenue</td>\n    </tr>\n    <tr>\n      <th>6</th>\n      <td>M1B</td>\n      <td>Scarborough</td>\n      <td>Rouge, Malvern</td>\n    </tr>\n    <tr>\n      <th>7</th>\n      <td>M3B</td>\n      <td>North York</td>\n      <td>Don Mills North</td>\n    </tr>\n    <tr>\n      <th>8</th>\n      <td>M4B</td>\n      <td>East York</td>\n      <td>Woodbine Gardens, Parkview Hill</td>\n    </tr>\n    <tr>\n      <th>9</th>\n      <td>M5B</td>\n      <td>Downtown Toronto</td>\n      <td>Ryerson, Garden District</td>\n    </tr>\n    <tr>\n      <th>10</th>\n      <td>M6B</td>\n      <td>North York</td>\n      <td>Glencairn</td>\n    </tr>\n    <tr>\n      <th>11</th>\n      <td>M9B</td>\n      <td>Etobicoke</td>\n      <td>Cloverdale, Islington, Martin Grove, Princess ...</td>\n    </tr>\n  </tbody>\n</table>\n</div>"
                    }, 
                    "execution_count": 7, 
                    "metadata": {}
                }
            ], 
            "execution_count": 7
        }, 
        {
            "source": "df.shape", 
            "cell_type": "code", 
            "metadata": {}, 
            "outputs": [
                {
                    "output_type": "execute_result", 
                    "data": {
                        "text/plain": "(103, 3)"
                    }, 
                    "execution_count": 8, 
                    "metadata": {}
                }
            ], 
            "execution_count": 8
        }, 
        {
            "source": "Coordinates will be retrieved from given URL with csv file:", 
            "cell_type": "markdown", 
            "metadata": {}
        }, 
        {
            "source": "df_coordinates = pd.read_csv(\"http://cocl.us/Geospatial_data\")\n\n# Colums for Latitude and Longitude are created\ndf['Latitude']=''\ndf['Longitude']=''", 
            "cell_type": "code", 
            "metadata": {}, 
            "outputs": [], 
            "execution_count": 9
        }, 
        {
            "source": "The following goes through the file with coordinates and iteratively retrieves the ones matching a certain Postal Code:", 
            "cell_type": "markdown", 
            "metadata": {}
        }, 
        {
            "source": "Lat=0\nLon=0\ni=-1\nfor index, element in df.iterrows():\n    if i<len(df):\n        i=i+1\n        # Finding the right coordinates\n        row_coordinate = df_coordinates.loc[df_coordinates['Postal Code'] == element['PostalCode']]\n        # Adding the coordinates to a list element\n        Lat = row_coordinate['Latitude'].tolist()\n        Lon = row_coordinate['Longitude'].tolist()\n        # Assigning the values to the data frame\n        df.at[i,'Latitude']=Lat[0]\n        df.at[i,'Longitude']=Lon[0]", 
            "cell_type": "code", 
            "metadata": {}, 
            "outputs": [], 
            "execution_count": 10
        }, 
        {
            "source": "df.head(12)", 
            "cell_type": "code", 
            "metadata": {}, 
            "outputs": [
                {
                    "output_type": "execute_result", 
                    "data": {
                        "text/plain": "   PostalCode           Borough  \\\n0         M3A        North York   \n1         M4A        North York   \n2         M5A  Downtown Toronto   \n3         M6A        North York   \n4         M7A      Queen's Park   \n5         M9A         Etobicoke   \n6         M1B       Scarborough   \n7         M3B        North York   \n8         M4B         East York   \n9         M5B  Downtown Toronto   \n10        M6B        North York   \n11        M9B         Etobicoke   \n\n                                         Neighborhood Latitude Longitude  \n0                                           Parkwoods  43.7533  -79.3297  \n1                                    Victoria Village  43.7259  -79.3156  \n2                           Harbourfront, Regent Park  43.6543  -79.3606  \n3                    Lawrence Heights, Lawrence Manor  43.7185  -79.4648  \n4                                        Not assigned  43.6623  -79.3895  \n5                                    Islington Avenue  43.6679  -79.5322  \n6                                      Rouge, Malvern  43.8067  -79.1944  \n7                                     Don Mills North  43.7459  -79.3522  \n8                     Woodbine Gardens, Parkview Hill  43.7064  -79.3099  \n9                            Ryerson, Garden District  43.6572  -79.3789  \n10                                          Glencairn  43.7096  -79.4451  \n11  Cloverdale, Islington, Martin Grove, Princess ...  43.6509  -79.5547  ", 
                        "text/html": "<div>\n<style scoped>\n    .dataframe tbody tr th:only-of-type {\n        vertical-align: middle;\n    }\n\n    .dataframe tbody tr th {\n        vertical-align: top;\n    }\n\n    .dataframe thead th {\n        text-align: right;\n    }\n</style>\n<table border=\"1\" class=\"dataframe\">\n  <thead>\n    <tr style=\"text-align: right;\">\n      <th></th>\n      <th>PostalCode</th>\n      <th>Borough</th>\n      <th>Neighborhood</th>\n      <th>Latitude</th>\n      <th>Longitude</th>\n    </tr>\n  </thead>\n  <tbody>\n    <tr>\n      <th>0</th>\n      <td>M3A</td>\n      <td>North York</td>\n      <td>Parkwoods</td>\n      <td>43.7533</td>\n      <td>-79.3297</td>\n    </tr>\n    <tr>\n      <th>1</th>\n      <td>M4A</td>\n      <td>North York</td>\n      <td>Victoria Village</td>\n      <td>43.7259</td>\n      <td>-79.3156</td>\n    </tr>\n    <tr>\n      <th>2</th>\n      <td>M5A</td>\n      <td>Downtown Toronto</td>\n      <td>Harbourfront, Regent Park</td>\n      <td>43.6543</td>\n      <td>-79.3606</td>\n    </tr>\n    <tr>\n      <th>3</th>\n      <td>M6A</td>\n      <td>North York</td>\n      <td>Lawrence Heights, Lawrence Manor</td>\n      <td>43.7185</td>\n      <td>-79.4648</td>\n    </tr>\n    <tr>\n      <th>4</th>\n      <td>M7A</td>\n      <td>Queen's Park</td>\n      <td>Not assigned</td>\n      <td>43.6623</td>\n      <td>-79.3895</td>\n    </tr>\n    <tr>\n      <th>5</th>\n      <td>M9A</td>\n      <td>Etobicoke</td>\n      <td>Islington Avenue</td>\n      <td>43.6679</td>\n      <td>-79.5322</td>\n    </tr>\n    <tr>\n      <th>6</th>\n      <td>M1B</td>\n      <td>Scarborough</td>\n      <td>Rouge, Malvern</td>\n      <td>43.8067</td>\n      <td>-79.1944</td>\n    </tr>\n    <tr>\n      <th>7</th>\n      <td>M3B</td>\n      <td>North York</td>\n      <td>Don Mills North</td>\n      <td>43.7459</td>\n      <td>-79.3522</td>\n    </tr>\n    <tr>\n      <th>8</th>\n      <td>M4B</td>\n      <td>East York</td>\n      <td>Woodbine Gardens, Parkview Hill</td>\n      <td>43.7064</td>\n      <td>-79.3099</td>\n    </tr>\n    <tr>\n      <th>9</th>\n      <td>M5B</td>\n      <td>Downtown Toronto</td>\n      <td>Ryerson, Garden District</td>\n      <td>43.6572</td>\n      <td>-79.3789</td>\n    </tr>\n    <tr>\n      <th>10</th>\n      <td>M6B</td>\n      <td>North York</td>\n      <td>Glencairn</td>\n      <td>43.7096</td>\n      <td>-79.4451</td>\n    </tr>\n    <tr>\n      <th>11</th>\n      <td>M9B</td>\n      <td>Etobicoke</td>\n      <td>Cloverdale, Islington, Martin Grove, Princess ...</td>\n      <td>43.6509</td>\n      <td>-79.5547</td>\n    </tr>\n  </tbody>\n</table>\n</div>"
                    }, 
                    "execution_count": 11, 
                    "metadata": {}
                }
            ], 
            "execution_count": 11
        }, 
        {
            "source": "df.shape", 
            "cell_type": "code", 
            "metadata": {}, 
            "outputs": [
                {
                    "output_type": "execute_result", 
                    "data": {
                        "text/plain": "(103, 5)"
                    }, 
                    "execution_count": 12, 
                    "metadata": {}
                }
            ], 
            "execution_count": 12
        }, 
        {
            "source": "### Data Analysis", 
            "cell_type": "markdown", 
            "metadata": {}
        }, 
        {
            "source": "##### For the sake of the exercise, the analysis will be similar to the example by the professors but slightly less complicated:\n##### 1. Subset of Toronto neighborhoods will be chosen and displayed\n##### 2. All coffee shops from the neighboorhoods will be taken from Foursquare API\n##### 3. Out of all coffee shops, the biggest branches will be chosen\n##### 4. Analysis will show amount of coffee shops of biggest branches per neighborhoods (note: however, with distinct coordinates. Assumption is that if two neighborhoods have the same coordinates, only one of them is chosen)\n##### 5. Kmeans algorithm will be used to cluster the coffee shops and result displayed on the map", 
            "cell_type": "markdown", 
            "metadata": {}
        }, 
        {
            "source": " ### BUSINESS PROBLEM: A new Coffee shop branch would like to come into Downtown Toronto, however, the coffee shops will be opened starting with neighborhoods where there is a least amount of other famous Coffee shops having multiple places ", 
            "cell_type": "markdown", 
            "metadata": {}
        }, 
        {
            "source": "## 1. Choosing initial data frame subset with Toronto neighborhoods", 
            "cell_type": "markdown", 
            "metadata": {}
        }, 
        {
            "source": "Starting with data frame:", 
            "cell_type": "markdown", 
            "metadata": {}
        }, 
        {
            "source": "df.head()", 
            "cell_type": "code", 
            "metadata": {}, 
            "outputs": [
                {
                    "output_type": "execute_result", 
                    "data": {
                        "text/plain": "  PostalCode           Borough                      Neighborhood Latitude  \\\n0        M3A        North York                         Parkwoods  43.7533   \n1        M4A        North York                  Victoria Village  43.7259   \n2        M5A  Downtown Toronto         Harbourfront, Regent Park  43.6543   \n3        M6A        North York  Lawrence Heights, Lawrence Manor  43.7185   \n4        M7A      Queen's Park                      Not assigned  43.6623   \n\n  Longitude  \n0  -79.3297  \n1  -79.3156  \n2  -79.3606  \n3  -79.4648  \n4  -79.3895  ", 
                        "text/html": "<div>\n<style scoped>\n    .dataframe tbody tr th:only-of-type {\n        vertical-align: middle;\n    }\n\n    .dataframe tbody tr th {\n        vertical-align: top;\n    }\n\n    .dataframe thead th {\n        text-align: right;\n    }\n</style>\n<table border=\"1\" class=\"dataframe\">\n  <thead>\n    <tr style=\"text-align: right;\">\n      <th></th>\n      <th>PostalCode</th>\n      <th>Borough</th>\n      <th>Neighborhood</th>\n      <th>Latitude</th>\n      <th>Longitude</th>\n    </tr>\n  </thead>\n  <tbody>\n    <tr>\n      <th>0</th>\n      <td>M3A</td>\n      <td>North York</td>\n      <td>Parkwoods</td>\n      <td>43.7533</td>\n      <td>-79.3297</td>\n    </tr>\n    <tr>\n      <th>1</th>\n      <td>M4A</td>\n      <td>North York</td>\n      <td>Victoria Village</td>\n      <td>43.7259</td>\n      <td>-79.3156</td>\n    </tr>\n    <tr>\n      <th>2</th>\n      <td>M5A</td>\n      <td>Downtown Toronto</td>\n      <td>Harbourfront, Regent Park</td>\n      <td>43.6543</td>\n      <td>-79.3606</td>\n    </tr>\n    <tr>\n      <th>3</th>\n      <td>M6A</td>\n      <td>North York</td>\n      <td>Lawrence Heights, Lawrence Manor</td>\n      <td>43.7185</td>\n      <td>-79.4648</td>\n    </tr>\n    <tr>\n      <th>4</th>\n      <td>M7A</td>\n      <td>Queen's Park</td>\n      <td>Not assigned</td>\n      <td>43.6623</td>\n      <td>-79.3895</td>\n    </tr>\n  </tbody>\n</table>\n</div>"
                    }, 
                    "execution_count": 14, 
                    "metadata": {}
                }
            ], 
            "execution_count": 14
        }, 
        {
            "source": "For this exercise, the interest is only in the neighborhoods in Borough of Downtown Toronto:", 
            "cell_type": "markdown", 
            "metadata": {}
        }, 
        {
            "source": "# PostalCode will not be needed - we'll drop the column\ndf=df.drop(['PostalCode'], axis=1)\n# We'll chose only Downtown Toronto Borough\nfor index, element in df.iterrows():\n    if \"Downtown Toronto\" not in element['Borough']: df=df.drop(index)\ndf=df.reset_index(drop=True)", 
            "cell_type": "code", 
            "metadata": {}, 
            "outputs": [], 
            "execution_count": 15
        }, 
        {
            "source": "df.head()", 
            "cell_type": "code", 
            "metadata": {}, 
            "outputs": [
                {
                    "output_type": "execute_result", 
                    "data": {
                        "text/plain": "            Borough               Neighborhood Latitude Longitude\n0  Downtown Toronto  Harbourfront, Regent Park  43.6543  -79.3606\n1  Downtown Toronto   Ryerson, Garden District  43.6572  -79.3789\n2  Downtown Toronto             St. James Town  43.6515  -79.3754\n3  Downtown Toronto                Berczy Park  43.6448  -79.3733\n4  Downtown Toronto         Central Bay Street   43.658  -79.3874", 
                        "text/html": "<div>\n<style scoped>\n    .dataframe tbody tr th:only-of-type {\n        vertical-align: middle;\n    }\n\n    .dataframe tbody tr th {\n        vertical-align: top;\n    }\n\n    .dataframe thead th {\n        text-align: right;\n    }\n</style>\n<table border=\"1\" class=\"dataframe\">\n  <thead>\n    <tr style=\"text-align: right;\">\n      <th></th>\n      <th>Borough</th>\n      <th>Neighborhood</th>\n      <th>Latitude</th>\n      <th>Longitude</th>\n    </tr>\n  </thead>\n  <tbody>\n    <tr>\n      <th>0</th>\n      <td>Downtown Toronto</td>\n      <td>Harbourfront, Regent Park</td>\n      <td>43.6543</td>\n      <td>-79.3606</td>\n    </tr>\n    <tr>\n      <th>1</th>\n      <td>Downtown Toronto</td>\n      <td>Ryerson, Garden District</td>\n      <td>43.6572</td>\n      <td>-79.3789</td>\n    </tr>\n    <tr>\n      <th>2</th>\n      <td>Downtown Toronto</td>\n      <td>St. James Town</td>\n      <td>43.6515</td>\n      <td>-79.3754</td>\n    </tr>\n    <tr>\n      <th>3</th>\n      <td>Downtown Toronto</td>\n      <td>Berczy Park</td>\n      <td>43.6448</td>\n      <td>-79.3733</td>\n    </tr>\n    <tr>\n      <th>4</th>\n      <td>Downtown Toronto</td>\n      <td>Central Bay Street</td>\n      <td>43.658</td>\n      <td>-79.3874</td>\n    </tr>\n  </tbody>\n</table>\n</div>"
                    }, 
                    "execution_count": 16, 
                    "metadata": {}
                }
            ], 
            "execution_count": 16
        }, 
        {
            "source": "## 2. Finding Coffee shops from Foursquare API ", 
            "cell_type": "markdown", 
            "metadata": {}
        }, 
        {
            "source": "address = 'Downtown Toronto'\ngeolocator = Nominatim()\nlocation = geolocator.geocode(address)\nlatitude = location.latitude\nlongitude = location.longitude\nprint('The geograpical coordinate of Downtown Toronto are {}, {}.'.format(latitude, longitude))", 
            "cell_type": "code", 
            "metadata": {}, 
            "outputs": [
                {
                    "output_type": "stream", 
                    "name": "stderr", 
                    "text": "/opt/conda/envs/DSX-Python35/lib/python3.5/site-packages/ipykernel/__main__.py:2: DeprecationWarning: Using Nominatim with the default \"geopy/1.18.1\" `user_agent` is strongly discouraged, as it violates Nominatim's ToS https://operations.osmfoundation.org/policies/nominatim/ and may possibly cause 403 and 429 HTTP errors. Please specify a custom `user_agent` with `Nominatim(user_agent=\"my-application\")` or by overriding the default `user_agent`: `geopy.geocoders.options.default_user_agent = \"my-application\"`. In geopy 2.0 this will become an exception.\n  from ipykernel import kernelapp as app\n"
                }, 
                {
                    "output_type": "stream", 
                    "name": "stdout", 
                    "text": "The geograpical coordinate of Downtown Toronto are 43.6541737, -79.3808116451341.\n"
                }
            ], 
            "execution_count": 17
        }, 
        {
            "source": "# create map of Downtown Toronto using latitude and longitude values\nmap_toronto = folium.Map(location=[latitude, longitude], zoom_start=12)\n\n# add markers to map\nfor lat, lng, borough, neighborhood in zip(df['Latitude'], df['Longitude'], df['Borough'], df['Neighborhood']):\n    label = '{}, {}'.format(neighborhood, borough)\n    label = folium.Popup(label, parse_html=True)\n    folium.CircleMarker(\n        [lat, lng],\n        radius=5,\n        popup=label,\n        color='blue',\n        fill=True,\n        fill_color='#3186cc',\n        fill_opacity=0.7,\n        parse_html=False).add_to(map_toronto)  \n    \nmap_toronto", 
            "cell_type": "code", 
            "metadata": {}, 
            "outputs": [
                {
                    "output_type": "execute_result", 
                    "data": {
                        "text/plain": "<folium.folium.Map at 0x7f2112605080>", 
                        "text/html": "<div style=\"width:100%;\"><div style=\"position:relative;width:100%;height:0;padding-bottom:60%;\"><iframe src=\"data:text/html;charset=utf-8;base64,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\" style=\"position:absolute;width:100%;height:100%;left:0;top:0;border:none !important;\" allowfullscreen webkitallowfullscreen mozallowfullscreen></iframe></div></div>"
                    }, 
                    "execution_count": 18, 
                    "metadata": {}
                }
            ], 
            "execution_count": 18
        }, 
        {
            "source": "# Contains my foursquare Credentials\n# This code is removed for sharing", 
            "cell_type": "code", 
            "metadata": {}, 
            "outputs": [], 
            "execution_count": 19
        }, 
        {
            "source": "i=-1\n# Data frame for coffee shops\nnearby_coffee_shops_final_df = pd.DataFrame()\nfor index, element in df.iterrows():\n    i=i+1\n    if i<len(df):\n        \n        # Find the coffee shops from Foursquare\n        url = 'https://api.foursquare.com/v2/venues/search?client_id={}&client_secret={}&ll={},{},&query={},&v={}'.format(CLIENT_ID, CLIENT_SECRET, element['Latitude'], element['Longitude'], search_query, VERSION)\n        results = requests.get(url).json()\n        foursquare_response = results['response']['venues']\n\n        nearby_coffee_shops_df = json_normalize(foursquare_response) # flatten JSON\n        \n        # Taking Address, Coffee Shop name, Latitude and Longitude\n        filtered_columns = ['location.address', 'name', 'location.lat', 'location.lng']\n        nearby_coffee_shops_df = nearby_coffee_shops_df.loc[:, filtered_columns]\n        \n        # Renaming the columns properly\n        nearby_coffee_shops_df.columns = ['Address', 'Name', 'Latitude', 'Longitude']\n        \n        # Adding the neighborhood name\n        nearby_coffee_shops_df['Neighborhood']=element['Neighborhood']\n    \n    # Finally adding the results to initially created data frame\n    nearby_coffee_shops_final_df = pd.concat([nearby_coffee_shops_final_df, nearby_coffee_shops_df])\n    \nnearby_coffee_shops_final_df=nearby_coffee_shops_final_df.reset_index(drop=True)", 
            "cell_type": "code", 
            "metadata": {}, 
            "outputs": [], 
            "execution_count": 38
        }, 
        {
            "source": "nearby_coffee_shops_final_df.head()", 
            "cell_type": "code", 
            "metadata": {}, 
            "outputs": [
                {
                    "output_type": "execute_result", 
                    "data": {
                        "text/plain": "              Address                         Name   Latitude  Longitude  \\\n0      120 Lombard St            Fahrenheit Coffee  43.652384 -79.372719   \n1     354 Queen St. E  Redline Coffee and Espresso  43.655692 -79.364095   \n2  519 Parliament St.               Jetfuel Coffee  43.665295 -79.368335   \n3    10 Market Street              Balzac's Coffee  43.648457 -79.371790   \n4   479 Broadview Ave         Rooster Coffee House  43.669177 -79.353134   \n\n                Neighborhood  \n0  Harbourfront, Regent Park  \n1  Harbourfront, Regent Park  \n2  Harbourfront, Regent Park  \n3  Harbourfront, Regent Park  \n4  Harbourfront, Regent Park  ", 
                        "text/html": "<div>\n<style scoped>\n    .dataframe tbody tr th:only-of-type {\n        vertical-align: middle;\n    }\n\n    .dataframe tbody tr th {\n        vertical-align: top;\n    }\n\n    .dataframe thead th {\n        text-align: right;\n    }\n</style>\n<table border=\"1\" class=\"dataframe\">\n  <thead>\n    <tr style=\"text-align: right;\">\n      <th></th>\n      <th>Address</th>\n      <th>Name</th>\n      <th>Latitude</th>\n      <th>Longitude</th>\n      <th>Neighborhood</th>\n    </tr>\n  </thead>\n  <tbody>\n    <tr>\n      <th>0</th>\n      <td>120 Lombard St</td>\n      <td>Fahrenheit Coffee</td>\n      <td>43.652384</td>\n      <td>-79.372719</td>\n      <td>Harbourfront, Regent Park</td>\n    </tr>\n    <tr>\n      <th>1</th>\n      <td>354 Queen St. E</td>\n      <td>Redline Coffee and Espresso</td>\n      <td>43.655692</td>\n      <td>-79.364095</td>\n      <td>Harbourfront, Regent Park</td>\n    </tr>\n    <tr>\n      <th>2</th>\n      <td>519 Parliament St.</td>\n      <td>Jetfuel Coffee</td>\n      <td>43.665295</td>\n      <td>-79.368335</td>\n      <td>Harbourfront, Regent Park</td>\n    </tr>\n    <tr>\n      <th>3</th>\n      <td>10 Market Street</td>\n      <td>Balzac's Coffee</td>\n      <td>43.648457</td>\n      <td>-79.371790</td>\n      <td>Harbourfront, Regent Park</td>\n    </tr>\n    <tr>\n      <th>4</th>\n      <td>479 Broadview Ave</td>\n      <td>Rooster Coffee House</td>\n      <td>43.669177</td>\n      <td>-79.353134</td>\n      <td>Harbourfront, Regent Park</td>\n    </tr>\n  </tbody>\n</table>\n</div>"
                    }, 
                    "execution_count": 39, 
                    "metadata": {}
                }
            ], 
            "execution_count": 39
        }, 
        {
            "source": "nearby_coffee_shops_final_df.shape", 
            "cell_type": "code", 
            "metadata": {}, 
            "outputs": [
                {
                    "output_type": "execute_result", 
                    "data": {
                        "text/plain": "(540, 5)"
                    }, 
                    "execution_count": 40, 
                    "metadata": {}
                }
            ], 
            "execution_count": 40
        }, 
        {
            "source": "#### CONCLUSION: So, we have 540 Coffee Shops within Neighborhoods of Downtown Toronto Borough", 
            "cell_type": "markdown", 
            "metadata": {}
        }, 
        {
            "source": "### 3. Finding the branches with the most Coffee shops", 
            "cell_type": "markdown", 
            "metadata": {}
        }, 
        {
            "source": "Now, we'll find the biggest branches. The assumption is that a branch is 'a big branch' if it has 20 and more coffee shops in Downtown Toronto", 
            "cell_type": "markdown", 
            "metadata": {}
        }, 
        {
            "source": "# First, we'll count the Coffee Shops\nbiggest_competitors_df=nearby_coffee_shops_final_df\nbiggest_competitors_df=biggest_competitors_df.groupby('Name', as_index=False).count()\n\n# Second, we chose only the ones with 20 or more coffee shops\nfor index, element in biggest_competitors_df.iterrows():\n    if element['Address'] < 20: biggest_competitors_df=biggest_competitors_df.drop(index)\n\nbiggest_competitors_df=biggest_competitors_df.reset_index(drop=True)\n\n# adding those to series\nbiggest_competitors_series=[]\nfor index, element in biggest_competitors_df.iterrows():\n      biggest_competitors_series.append(element['Name'])\n\n# Finally, we form a list where only the biggest competitors are present\ni=-1\nfor index, element in nearby_coffee_shops_final_df.iterrows():\n    if i<len(nearby_coffee_shops_final_df):\n        i=i+1\n        if element['Name'] not in biggest_competitors_series: nearby_coffee_shops_final_df=nearby_coffee_shops_final_df.drop(index)\n            \nnearby_coffee_shops_final_df=nearby_coffee_shops_final_df.reset_index(drop=True)", 
            "cell_type": "code", 
            "metadata": {}, 
            "outputs": [], 
            "execution_count": 41
        }, 
        {
            "source": "nearby_coffee_shops_final_df.head()", 
            "cell_type": "code", 
            "metadata": {}, 
            "outputs": [
                {
                    "output_type": "execute_result", 
                    "data": {
                        "text/plain": "             Address                  Name   Latitude  Longitude  \\\n0     120 Lombard St     Fahrenheit Coffee  43.652384 -79.372719   \n1   10 Market Street       Balzac's Coffee  43.648457 -79.371790   \n2  479 Broadview Ave  Rooster Coffee House  43.669177 -79.353134   \n3    122 Bond Street       Balzac's Coffee  43.657854 -79.379200   \n4   1 Trinity Street       Balzac's Coffee  43.649797 -79.359142   \n\n                Neighborhood  \n0  Harbourfront, Regent Park  \n1  Harbourfront, Regent Park  \n2  Harbourfront, Regent Park  \n3  Harbourfront, Regent Park  \n4  Harbourfront, Regent Park  ", 
                        "text/html": "<div>\n<style scoped>\n    .dataframe tbody tr th:only-of-type {\n        vertical-align: middle;\n    }\n\n    .dataframe tbody tr th {\n        vertical-align: top;\n    }\n\n    .dataframe thead th {\n        text-align: right;\n    }\n</style>\n<table border=\"1\" class=\"dataframe\">\n  <thead>\n    <tr style=\"text-align: right;\">\n      <th></th>\n      <th>Address</th>\n      <th>Name</th>\n      <th>Latitude</th>\n      <th>Longitude</th>\n      <th>Neighborhood</th>\n    </tr>\n  </thead>\n  <tbody>\n    <tr>\n      <th>0</th>\n      <td>120 Lombard St</td>\n      <td>Fahrenheit Coffee</td>\n      <td>43.652384</td>\n      <td>-79.372719</td>\n      <td>Harbourfront, Regent Park</td>\n    </tr>\n    <tr>\n      <th>1</th>\n      <td>10 Market Street</td>\n      <td>Balzac's Coffee</td>\n      <td>43.648457</td>\n      <td>-79.371790</td>\n      <td>Harbourfront, Regent Park</td>\n    </tr>\n    <tr>\n      <th>2</th>\n      <td>479 Broadview Ave</td>\n      <td>Rooster Coffee House</td>\n      <td>43.669177</td>\n      <td>-79.353134</td>\n      <td>Harbourfront, Regent Park</td>\n    </tr>\n    <tr>\n      <th>3</th>\n      <td>122 Bond Street</td>\n      <td>Balzac's Coffee</td>\n      <td>43.657854</td>\n      <td>-79.379200</td>\n      <td>Harbourfront, Regent Park</td>\n    </tr>\n    <tr>\n      <th>4</th>\n      <td>1 Trinity Street</td>\n      <td>Balzac's Coffee</td>\n      <td>43.649797</td>\n      <td>-79.359142</td>\n      <td>Harbourfront, Regent Park</td>\n    </tr>\n  </tbody>\n</table>\n</div>"
                    }, 
                    "execution_count": 42, 
                    "metadata": {}
                }
            ], 
            "execution_count": 42
        }, 
        {
            "source": "nearby_coffee_shops_final_df.shape", 
            "cell_type": "code", 
            "metadata": {}, 
            "outputs": [
                {
                    "output_type": "execute_result", 
                    "data": {
                        "text/plain": "(378, 5)"
                    }, 
                    "execution_count": 43, 
                    "metadata": {}
                }
            ], 
            "execution_count": 43
        }, 
        {
            "source": "#### CONCLUSION: So, we have 378 Coffee Shops within Neighborhoods of Downtown Toronto Borough, where branch holds 20 or more of them", 
            "cell_type": "markdown", 
            "metadata": {}
        }, 
        {
            "source": "## 4. Analysing which neighborhoods are with biggest amount of Coffee Shops owned by Big Branches", 
            "cell_type": "markdown", 
            "metadata": {}
        }, 
        {
            "source": "Counting coffee shops per neighboorhood (or rather separate collections of neighborhoods with given the same coordinates, as it was given like that from the beginning of this exercise)", 
            "cell_type": "markdown", 
            "metadata": {}
        }, 
        {
            "source": "nearby_coffee_shops_final_df=nearby_coffee_shops_final_df.groupby(['Neighborhood'], as_index=False).count()\n\n# Getting rid of the columns which are not needed\nnearby_coffee_shops_final_df=nearby_coffee_shops_final_df.drop(['Address'], axis=1)\nnearby_coffee_shops_final_df=nearby_coffee_shops_final_df.drop(['Latitude'], axis=1)\nnearby_coffee_shops_final_df=nearby_coffee_shops_final_df.drop(['Longitude'], axis=1)", 
            "cell_type": "code", 
            "metadata": {}, 
            "outputs": [], 
            "execution_count": 44
        }, 
        {
            "source": "nearby_coffee_shops_final_df.head()", 
            "cell_type": "code", 
            "metadata": {}, 
            "outputs": [
                {
                    "output_type": "execute_result", 
                    "data": {
                        "text/plain": "                                        Neighborhood  Name\n0                           Adelaide, King, Richmond    18\n1                                        Berczy Park    18\n2  CN Tower, Bathurst Quay, Island airport, Harbo...    20\n3                        Cabbagetown, St. James Town    30\n4                                 Central Bay Street    20", 
                        "text/html": "<div>\n<style scoped>\n    .dataframe tbody tr th:only-of-type {\n        vertical-align: middle;\n    }\n\n    .dataframe tbody tr th {\n        vertical-align: top;\n    }\n\n    .dataframe thead th {\n        text-align: right;\n    }\n</style>\n<table border=\"1\" class=\"dataframe\">\n  <thead>\n    <tr style=\"text-align: right;\">\n      <th></th>\n      <th>Neighborhood</th>\n      <th>Name</th>\n    </tr>\n  </thead>\n  <tbody>\n    <tr>\n      <th>0</th>\n      <td>Adelaide, King, Richmond</td>\n      <td>18</td>\n    </tr>\n    <tr>\n      <th>1</th>\n      <td>Berczy Park</td>\n      <td>18</td>\n    </tr>\n    <tr>\n      <th>2</th>\n      <td>CN Tower, Bathurst Quay, Island airport, Harbo...</td>\n      <td>20</td>\n    </tr>\n    <tr>\n      <th>3</th>\n      <td>Cabbagetown, St. James Town</td>\n      <td>30</td>\n    </tr>\n    <tr>\n      <th>4</th>\n      <td>Central Bay Street</td>\n      <td>20</td>\n    </tr>\n  </tbody>\n</table>\n</div>"
                    }, 
                    "execution_count": 45, 
                    "metadata": {}
                }
            ], 
            "execution_count": 45
        }, 
        {
            "source": "Next, normalizing the numbers:", 
            "cell_type": "markdown", 
            "metadata": {}
        }, 
        {
            "source": "max_coffee_shops = nearby_coffee_shops_final_df['Name'].max()\n\ni=-1\nfor index, element in nearby_coffee_shops_final_df.iterrows():\n    i=i+1\n    if i<len(nearby_coffee_shops_final_df):\n        # Divide by max value\n        new_value = round(element['Name']/max_coffee_shops,2)\n        # Adding the new value\n        nearby_coffee_shops_final_df.at[i,'Count']=new_value\n\n# Removing the name count, as now we have the 'Count' column  \nnearby_coffee_shops_final_df=nearby_coffee_shops_final_df.drop(['Name'], axis=1)", 
            "cell_type": "code", 
            "metadata": {}, 
            "outputs": [], 
            "execution_count": 46
        }, 
        {
            "source": "nearby_coffee_shops_final_df.head()", 
            "cell_type": "code", 
            "metadata": {}, 
            "outputs": [
                {
                    "output_type": "execute_result", 
                    "data": {
                        "text/plain": "                                        Neighborhood  Count\n0                           Adelaide, King, Richmond   0.60\n1                                        Berczy Park   0.60\n2  CN Tower, Bathurst Quay, Island airport, Harbo...   0.67\n3                        Cabbagetown, St. James Town   1.00\n4                                 Central Bay Street   0.67", 
                        "text/html": "<div>\n<style scoped>\n    .dataframe tbody tr th:only-of-type {\n        vertical-align: middle;\n    }\n\n    .dataframe tbody tr th {\n        vertical-align: top;\n    }\n\n    .dataframe thead th {\n        text-align: right;\n    }\n</style>\n<table border=\"1\" class=\"dataframe\">\n  <thead>\n    <tr style=\"text-align: right;\">\n      <th></th>\n      <th>Neighborhood</th>\n      <th>Count</th>\n    </tr>\n  </thead>\n  <tbody>\n    <tr>\n      <th>0</th>\n      <td>Adelaide, King, Richmond</td>\n      <td>0.60</td>\n    </tr>\n    <tr>\n      <th>1</th>\n      <td>Berczy Park</td>\n      <td>0.60</td>\n    </tr>\n    <tr>\n      <th>2</th>\n      <td>CN Tower, Bathurst Quay, Island airport, Harbo...</td>\n      <td>0.67</td>\n    </tr>\n    <tr>\n      <th>3</th>\n      <td>Cabbagetown, St. James Town</td>\n      <td>1.00</td>\n    </tr>\n    <tr>\n      <th>4</th>\n      <td>Central Bay Street</td>\n      <td>0.67</td>\n    </tr>\n  </tbody>\n</table>\n</div>"
                    }, 
                    "execution_count": 47, 
                    "metadata": {}
                }
            ], 
            "execution_count": 47
        }, 
        {
            "source": "# Removing 'Neighborhood' column, as we only need the numbers\nnearby_coffee_shops_final_no_N_df=nearby_coffee_shops_final_df.drop(['Neighborhood'], axis=1)", 
            "cell_type": "code", 
            "metadata": {}, 
            "outputs": [], 
            "execution_count": 49
        }, 
        {
            "source": "## 5. Using kmeans algorithm to group the neighborhoods", 
            "cell_type": "markdown", 
            "metadata": {}
        }, 
        {
            "source": "The assumption is that new branch would like to have the Borough divided into 6 clusters:", 
            "cell_type": "markdown", 
            "metadata": {}
        }, 
        {
            "source": "# set number of clusters\nkclusters = 6\n\n# run k-means clustering\nkmeans = KMeans(n_clusters=kclusters, random_state=0).fit(nearby_coffee_shops_final_no_N_df)", 
            "cell_type": "code", 
            "metadata": {}, 
            "outputs": [], 
            "execution_count": 51
        }, 
        {
            "source": "kmeans.labels_[0:32]", 
            "cell_type": "code", 
            "metadata": {}, 
            "outputs": [
                {
                    "output_type": "execute_result", 
                    "data": {
                        "text/plain": "array([4, 4, 0, 1, 0, 5, 3, 1, 4, 4, 1, 2, 5, 2, 1, 0, 4, 1], dtype=int32)"
                    }, 
                    "execution_count": 52, 
                    "metadata": {}
                }
            ], 
            "execution_count": 52
        }, 
        {
            "source": "# Assigning Groups to the Neighborhoods\nnearby_coffee_shops_final_df['Group']=kmeans.labels_\n\n# Updating initial dataframe df\ni=-1\nfor index, element in df.iterrows():\n    i=i+1\n    if i<len(df):\n        row_group = nearby_coffee_shops_final_df.loc[nearby_coffee_shops_final_df['Neighborhood'] == element['Neighborhood']]\n        group = row_group['Group'].tolist()\n        if group==[]:\n            group=[6]\n        df.at[i,'Group']=group[0]", 
            "cell_type": "code", 
            "metadata": {}, 
            "outputs": [], 
            "execution_count": 61
        }, 
        {
            "source": "df.head()", 
            "cell_type": "code", 
            "metadata": {}, 
            "outputs": [
                {
                    "output_type": "execute_result", 
                    "data": {
                        "text/plain": "            Borough               Neighborhood Latitude Longitude  Group\n0  Downtown Toronto  Harbourfront, Regent Park  43.6543  -79.3606    2.0\n1  Downtown Toronto   Ryerson, Garden District  43.6572  -79.3789    0.0\n2  Downtown Toronto             St. James Town  43.6515  -79.3754    4.0\n3  Downtown Toronto                Berczy Park  43.6448  -79.3733    4.0\n4  Downtown Toronto         Central Bay Street   43.658  -79.3874    0.0", 
                        "text/html": "<div>\n<style scoped>\n    .dataframe tbody tr th:only-of-type {\n        vertical-align: middle;\n    }\n\n    .dataframe tbody tr th {\n        vertical-align: top;\n    }\n\n    .dataframe thead th {\n        text-align: right;\n    }\n</style>\n<table border=\"1\" class=\"dataframe\">\n  <thead>\n    <tr style=\"text-align: right;\">\n      <th></th>\n      <th>Borough</th>\n      <th>Neighborhood</th>\n      <th>Latitude</th>\n      <th>Longitude</th>\n      <th>Group</th>\n    </tr>\n  </thead>\n  <tbody>\n    <tr>\n      <th>0</th>\n      <td>Downtown Toronto</td>\n      <td>Harbourfront, Regent Park</td>\n      <td>43.6543</td>\n      <td>-79.3606</td>\n      <td>2.0</td>\n    </tr>\n    <tr>\n      <th>1</th>\n      <td>Downtown Toronto</td>\n      <td>Ryerson, Garden District</td>\n      <td>43.6572</td>\n      <td>-79.3789</td>\n      <td>0.0</td>\n    </tr>\n    <tr>\n      <th>2</th>\n      <td>Downtown Toronto</td>\n      <td>St. James Town</td>\n      <td>43.6515</td>\n      <td>-79.3754</td>\n      <td>4.0</td>\n    </tr>\n    <tr>\n      <th>3</th>\n      <td>Downtown Toronto</td>\n      <td>Berczy Park</td>\n      <td>43.6448</td>\n      <td>-79.3733</td>\n      <td>4.0</td>\n    </tr>\n    <tr>\n      <th>4</th>\n      <td>Downtown Toronto</td>\n      <td>Central Bay Street</td>\n      <td>43.658</td>\n      <td>-79.3874</td>\n      <td>0.0</td>\n    </tr>\n  </tbody>\n</table>\n</div>"
                    }, 
                    "execution_count": 62, 
                    "metadata": {}
                }
            ], 
            "execution_count": 62
        }, 
        {
            "source": "Finally, visualizing clustered Neighborhoods:", 
            "cell_type": "markdown", 
            "metadata": {}
        }, 
        {
            "source": "# create map\nmap_clusters = folium.Map(location=[latitude, longitude], zoom_start=13)\n\n# set color scheme for the clusters\ncolors_array = cm.rainbow(np.linspace(0, 1, 7))\n#print (rainbow)\nrainbow = [colors.rgb2hex(i) for i in colors_array]\n\n# add markers to the map\nmarkers_colors = []\ni=-1\nfor lat, lon, poi, cluster in zip(df['Latitude'], df['Longitude'], df['Neighborhood'], df['Group']):\n    i=i+1\n    if i<len(df):\n        label = folium.Popup(str(poi) + '. Cluster ' + str(cluster), parse_html=True)\n        cluster=int(cluster)\n        folium.CircleMarker(\n            [lat, lon],\n            radius=10,\n            popup=label,\n            color=rainbow[cluster-1],\n            fill=True,\n            fill_color=rainbow[cluster-1],\n            fill_opacity=0.7).add_to(map_clusters)\n        \nmap_clusters", 
            "cell_type": "code", 
            "metadata": {}, 
            "outputs": [
                {
                    "output_type": "execute_result", 
                    "data": {
                        "text/plain": "<folium.folium.Map at 0x7f210a9038d0>", 
                        "text/html": "<div style=\"width:100%;\"><div style=\"position:relative;width:100%;height:0;padding-bottom:60%;\"><iframe src=\"data:text/html;charset=utf-8;base64,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\" style=\"position:absolute;width:100%;height:100%;left:0;top:0;border:none !important;\" allowfullscreen webkitallowfullscreen mozallowfullscreen></iframe></div></div>"
                    }, 
                    "execution_count": 65, 
                    "metadata": {}
                }
            ], 
            "execution_count": 65
        }
    ], 
    "metadata": {
        "kernelspec": {
            "display_name": "Python 3.5", 
            "name": "python3", 
            "language": "python"
        }, 
        "language_info": {
            "mimetype": "text/x-python", 
            "nbconvert_exporter": "python", 
            "version": "3.5.5", 
            "name": "python", 
            "file_extension": ".py", 
            "pygments_lexer": "ipython3", 
            "codemirror_mode": {
                "version": 3, 
                "name": "ipython"
            }
        }
    }, 
    "nbformat": 4
}