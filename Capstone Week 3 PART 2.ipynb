{
    "nbformat_minor": 1, 
    "cells": [
        {
            "source": "## NOTEBOOK on IBM Watson Studio shared via GitHub", 
            "cell_type": "markdown", 
            "metadata": {
                "collapsed": true
            }
        }, 
        {
            "source": "This notebook will be used for Applied Data Science Capstone Project week 3 assignment (this is part 2 - adding coordinates to the data framework, as per instructions for 2 points)", 
            "cell_type": "markdown", 
            "metadata": {}
        }, 
        {
            "source": "import pandas as pd\nimport numpy as np\nimport requests\nimport urllib.request\nfrom bs4 import BeautifulSoup\nimport lxml\n\nimport requests # library to handle requests\nfrom pandas.io.json import json_normalize # tranform JSON file into a pandas dataframe", 
            "cell_type": "code", 
            "metadata": {}, 
            "outputs": [], 
            "execution_count": 1
        }, 
        {
            "source": "Setting up the basics:", 
            "cell_type": "markdown", 
            "metadata": {}
        }, 
        {
            "source": "# Data will be retrieved from the given wiki page\nwikipedia_link_to_Canada_postal_codes='https://en.wikipedia.org/wiki/List_of_postal_codes_of_Canada:_M'\n# Request and sava data in 'page' object\npage = requests.get(wikipedia_link_to_Canada_postal_codes)\n# Use 'BeautifulSoup' tool to work with retrieved data\nsoup = BeautifulSoup(page.text, 'lxml')\n# Creating an empty data frame to store the data \ndf = pd.DataFrame()", 
            "cell_type": "code", 
            "metadata": {}, 
            "outputs": [], 
            "execution_count": 2
        }, 
        {
            "source": "Next, the data from the messy page needs to be retrieved. The needed data is in the only table within that page", 
            "cell_type": "markdown", 
            "metadata": {}
        }, 
        {
            "source": "# Finding the table in the page\nmatch_table = soup.find('table', class_='wikitable sortable')\n\n# Needed infrmation first will be collected in lists\nList_PostalCode = []\nList_Borough = []\nList_Neighborhood = []\n\n# The following cyclicly goes through each row of the table and collects information\ni=1\nfor match_element in match_table.find_all('td'):\n    if i==1: List_PostalCode.append(match_element.text)\n    if i==2: List_Borough.append(match_element.text)\n    if i==3: \n        List_Neighborhood.append(match_element.text)\n        i=0\n    i=i+1", 
            "cell_type": "code", 
            "metadata": {}, 
            "outputs": [], 
            "execution_count": 3
        }, 
        {
            "source": "Collected data lists are assigned to the data frame", 
            "cell_type": "markdown", 
            "metadata": {}
        }, 
        {
            "source": "df['PostalCode']=List_PostalCode\ndf['Borough']=List_Borough\ndf['Neighborhood']=List_Neighborhood", 
            "cell_type": "code", 
            "metadata": {}, 
            "outputs": [], 
            "execution_count": 4
        }, 
        {
            "source": "Next, transformations are applied to the data to form the data frame required by this exercise.", 
            "cell_type": "markdown", 
            "metadata": {}
        }, 
        {
            "source": "# Cleaning up neighbouhood names\nfor index, element in df.iterrows():\n    element['Neighborhood']=element['Neighborhood'].strip(\"\\n\")\n\n# Removing rows which do not have Boroughs assigned\n# Where neighbourhoods are not assigned, the Borough name is used\nfor index, element in df.iterrows():\n    if element['Borough'] == 'Not assigned': df=df.drop(index)\n    if element['Neighborhood'] == 'Not assigned': element['Neighborhood']=element['Borough']\n\n# Dataframe is reindexed\ndf = df.reset_index(drop=True)\n\n# Neighborboods under the same Boroughs are merged and separated by commas, as per example\ndf = df.groupby(['PostalCode','Borough'], sort=False, as_index=False).agg(', '.join)", 
            "cell_type": "code", 
            "metadata": {}, 
            "outputs": [], 
            "execution_count": 5
        }, 
        {
            "source": "Veryfying that the resulting data frame is as requested per exercise", 
            "cell_type": "markdown", 
            "metadata": {}
        }, 
        {
            "source": "df.head(12)", 
            "cell_type": "code", 
            "metadata": {}, 
            "outputs": [
                {
                    "output_type": "execute_result", 
                    "data": {
                        "text/plain": "   PostalCode           Borough  \\\n0         M3A        North York   \n1         M4A        North York   \n2         M5A  Downtown Toronto   \n3         M6A        North York   \n4         M7A      Queen's Park   \n5         M9A         Etobicoke   \n6         M1B       Scarborough   \n7         M3B        North York   \n8         M4B         East York   \n9         M5B  Downtown Toronto   \n10        M6B        North York   \n11        M9B         Etobicoke   \n\n                                         Neighborhood  \n0                                           Parkwoods  \n1                                    Victoria Village  \n2                           Harbourfront, Regent Park  \n3                    Lawrence Heights, Lawrence Manor  \n4                                        Not assigned  \n5                                    Islington Avenue  \n6                                      Rouge, Malvern  \n7                                     Don Mills North  \n8                     Woodbine Gardens, Parkview Hill  \n9                            Ryerson, Garden District  \n10                                          Glencairn  \n11  Cloverdale, Islington, Martin Grove, Princess ...  ", 
                        "text/html": "<div>\n<style scoped>\n    .dataframe tbody tr th:only-of-type {\n        vertical-align: middle;\n    }\n\n    .dataframe tbody tr th {\n        vertical-align: top;\n    }\n\n    .dataframe thead th {\n        text-align: right;\n    }\n</style>\n<table border=\"1\" class=\"dataframe\">\n  <thead>\n    <tr style=\"text-align: right;\">\n      <th></th>\n      <th>PostalCode</th>\n      <th>Borough</th>\n      <th>Neighborhood</th>\n    </tr>\n  </thead>\n  <tbody>\n    <tr>\n      <th>0</th>\n      <td>M3A</td>\n      <td>North York</td>\n      <td>Parkwoods</td>\n    </tr>\n    <tr>\n      <th>1</th>\n      <td>M4A</td>\n      <td>North York</td>\n      <td>Victoria Village</td>\n    </tr>\n    <tr>\n      <th>2</th>\n      <td>M5A</td>\n      <td>Downtown Toronto</td>\n      <td>Harbourfront, Regent Park</td>\n    </tr>\n    <tr>\n      <th>3</th>\n      <td>M6A</td>\n      <td>North York</td>\n      <td>Lawrence Heights, Lawrence Manor</td>\n    </tr>\n    <tr>\n      <th>4</th>\n      <td>M7A</td>\n      <td>Queen's Park</td>\n      <td>Not assigned</td>\n    </tr>\n    <tr>\n      <th>5</th>\n      <td>M9A</td>\n      <td>Etobicoke</td>\n      <td>Islington Avenue</td>\n    </tr>\n    <tr>\n      <th>6</th>\n      <td>M1B</td>\n      <td>Scarborough</td>\n      <td>Rouge, Malvern</td>\n    </tr>\n    <tr>\n      <th>7</th>\n      <td>M3B</td>\n      <td>North York</td>\n      <td>Don Mills North</td>\n    </tr>\n    <tr>\n      <th>8</th>\n      <td>M4B</td>\n      <td>East York</td>\n      <td>Woodbine Gardens, Parkview Hill</td>\n    </tr>\n    <tr>\n      <th>9</th>\n      <td>M5B</td>\n      <td>Downtown Toronto</td>\n      <td>Ryerson, Garden District</td>\n    </tr>\n    <tr>\n      <th>10</th>\n      <td>M6B</td>\n      <td>North York</td>\n      <td>Glencairn</td>\n    </tr>\n    <tr>\n      <th>11</th>\n      <td>M9B</td>\n      <td>Etobicoke</td>\n      <td>Cloverdale, Islington, Martin Grove, Princess ...</td>\n    </tr>\n  </tbody>\n</table>\n</div>"
                    }, 
                    "execution_count": 6, 
                    "metadata": {}
                }
            ], 
            "execution_count": 6
        }, 
        {
            "source": "df.shape", 
            "cell_type": "code", 
            "metadata": {}, 
            "outputs": [
                {
                    "output_type": "execute_result", 
                    "data": {
                        "text/plain": "(103, 3)"
                    }, 
                    "execution_count": 7, 
                    "metadata": {}
                }
            ], 
            "execution_count": 7
        }, 
        {
            "source": "Coordinates will be retrieved from given URL with csv file:", 
            "cell_type": "markdown", 
            "metadata": {}
        }, 
        {
            "source": "df_coordinates = pd.read_csv(\"http://cocl.us/Geospatial_data\")\n\n# Colums for Latitude and Longitude are created\ndf['Latitude']=''\ndf['Longitude']=''", 
            "cell_type": "code", 
            "metadata": {}, 
            "outputs": [], 
            "execution_count": 8
        }, 
        {
            "source": "The following goes through the file with coordinates and iteratively retrieves the ones matching a certain Postal Code:", 
            "cell_type": "markdown", 
            "metadata": {}
        }, 
        {
            "source": "Lat=0\nLon=0\ni=-1\nfor index, element in df.iterrows():\n    if i<len(df):\n        i=i+1\n        # Finding the right coordinates\n        row_coordinate = df_coordinates.loc[df_coordinates['Postal Code'] == element['PostalCode']]\n        # Adding the coordinates to a list element\n        Lat = row_coordinate['Latitude'].tolist()\n        Lon = row_coordinate['Longitude'].tolist()\n        # Assigning the values to the data frame\n        df.at[i,'Latitude']=Lat[0]\n        df.at[i,'Longitude']=Lon[0]", 
            "cell_type": "code", 
            "metadata": {}, 
            "outputs": [], 
            "execution_count": 9
        }, 
        {
            "source": "df.head(12)", 
            "cell_type": "code", 
            "metadata": {}, 
            "outputs": [
                {
                    "output_type": "execute_result", 
                    "data": {
                        "text/plain": "   PostalCode           Borough  \\\n0         M3A        North York   \n1         M4A        North York   \n2         M5A  Downtown Toronto   \n3         M6A        North York   \n4         M7A      Queen's Park   \n5         M9A         Etobicoke   \n6         M1B       Scarborough   \n7         M3B        North York   \n8         M4B         East York   \n9         M5B  Downtown Toronto   \n10        M6B        North York   \n11        M9B         Etobicoke   \n\n                                         Neighborhood Latitude Longitude  \n0                                           Parkwoods  43.7533  -79.3297  \n1                                    Victoria Village  43.7259  -79.3156  \n2                           Harbourfront, Regent Park  43.6543  -79.3606  \n3                    Lawrence Heights, Lawrence Manor  43.7185  -79.4648  \n4                                        Not assigned  43.6623  -79.3895  \n5                                    Islington Avenue  43.6679  -79.5322  \n6                                      Rouge, Malvern  43.8067  -79.1944  \n7                                     Don Mills North  43.7459  -79.3522  \n8                     Woodbine Gardens, Parkview Hill  43.7064  -79.3099  \n9                            Ryerson, Garden District  43.6572  -79.3789  \n10                                          Glencairn  43.7096  -79.4451  \n11  Cloverdale, Islington, Martin Grove, Princess ...  43.6509  -79.5547  ", 
                        "text/html": "<div>\n<style scoped>\n    .dataframe tbody tr th:only-of-type {\n        vertical-align: middle;\n    }\n\n    .dataframe tbody tr th {\n        vertical-align: top;\n    }\n\n    .dataframe thead th {\n        text-align: right;\n    }\n</style>\n<table border=\"1\" class=\"dataframe\">\n  <thead>\n    <tr style=\"text-align: right;\">\n      <th></th>\n      <th>PostalCode</th>\n      <th>Borough</th>\n      <th>Neighborhood</th>\n      <th>Latitude</th>\n      <th>Longitude</th>\n    </tr>\n  </thead>\n  <tbody>\n    <tr>\n      <th>0</th>\n      <td>M3A</td>\n      <td>North York</td>\n      <td>Parkwoods</td>\n      <td>43.7533</td>\n      <td>-79.3297</td>\n    </tr>\n    <tr>\n      <th>1</th>\n      <td>M4A</td>\n      <td>North York</td>\n      <td>Victoria Village</td>\n      <td>43.7259</td>\n      <td>-79.3156</td>\n    </tr>\n    <tr>\n      <th>2</th>\n      <td>M5A</td>\n      <td>Downtown Toronto</td>\n      <td>Harbourfront, Regent Park</td>\n      <td>43.6543</td>\n      <td>-79.3606</td>\n    </tr>\n    <tr>\n      <th>3</th>\n      <td>M6A</td>\n      <td>North York</td>\n      <td>Lawrence Heights, Lawrence Manor</td>\n      <td>43.7185</td>\n      <td>-79.4648</td>\n    </tr>\n    <tr>\n      <th>4</th>\n      <td>M7A</td>\n      <td>Queen's Park</td>\n      <td>Not assigned</td>\n      <td>43.6623</td>\n      <td>-79.3895</td>\n    </tr>\n    <tr>\n      <th>5</th>\n      <td>M9A</td>\n      <td>Etobicoke</td>\n      <td>Islington Avenue</td>\n      <td>43.6679</td>\n      <td>-79.5322</td>\n    </tr>\n    <tr>\n      <th>6</th>\n      <td>M1B</td>\n      <td>Scarborough</td>\n      <td>Rouge, Malvern</td>\n      <td>43.8067</td>\n      <td>-79.1944</td>\n    </tr>\n    <tr>\n      <th>7</th>\n      <td>M3B</td>\n      <td>North York</td>\n      <td>Don Mills North</td>\n      <td>43.7459</td>\n      <td>-79.3522</td>\n    </tr>\n    <tr>\n      <th>8</th>\n      <td>M4B</td>\n      <td>East York</td>\n      <td>Woodbine Gardens, Parkview Hill</td>\n      <td>43.7064</td>\n      <td>-79.3099</td>\n    </tr>\n    <tr>\n      <th>9</th>\n      <td>M5B</td>\n      <td>Downtown Toronto</td>\n      <td>Ryerson, Garden District</td>\n      <td>43.6572</td>\n      <td>-79.3789</td>\n    </tr>\n    <tr>\n      <th>10</th>\n      <td>M6B</td>\n      <td>North York</td>\n      <td>Glencairn</td>\n      <td>43.7096</td>\n      <td>-79.4451</td>\n    </tr>\n    <tr>\n      <th>11</th>\n      <td>M9B</td>\n      <td>Etobicoke</td>\n      <td>Cloverdale, Islington, Martin Grove, Princess ...</td>\n      <td>43.6509</td>\n      <td>-79.5547</td>\n    </tr>\n  </tbody>\n</table>\n</div>"
                    }, 
                    "execution_count": 10, 
                    "metadata": {}
                }
            ], 
            "execution_count": 10
        }, 
        {
            "source": "df.shape", 
            "cell_type": "code", 
            "metadata": {}, 
            "outputs": [
                {
                    "output_type": "execute_result", 
                    "data": {
                        "text/plain": "(103, 5)"
                    }, 
                    "execution_count": 11, 
                    "metadata": {}
                }
            ], 
            "execution_count": 11
        }
    ], 
    "metadata": {
        "kernelspec": {
            "display_name": "Python 3.5", 
            "name": "python3", 
            "language": "python"
        }, 
        "language_info": {
            "mimetype": "text/x-python", 
            "nbconvert_exporter": "python", 
            "version": "3.5.5", 
            "name": "python", 
            "file_extension": ".py", 
            "pygments_lexer": "ipython3", 
            "codemirror_mode": {
                "version": 3, 
                "name": "ipython"
            }
        }
    }, 
    "nbformat": 4
}