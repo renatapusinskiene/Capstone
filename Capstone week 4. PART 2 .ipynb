{
    "nbformat_minor": 1, 
    "cells": [
        {
            "source": "## Capstone project. Week 4 PART 2", 
            "cell_type": "markdown", 
            "metadata": {
                "collapsed": true
            }
        }, 
        {
            "source": "### DATA", 
            "cell_type": "markdown", 
            "metadata": {}
        }, 
        {
            "source": "##### Most data will be taken from Foursquare. Data about coffee shops:", 
            "cell_type": "markdown", 
            "metadata": {}
        }, 
        {
            "source": "* Query for search \"Coffee\"\n* Name and address\n* Coordinates\n* Working hours\n* Rating (or value score)", 
            "cell_type": "markdown", 
            "metadata": {}
        }, 
        {
            "source": "##### Locations to explore - all EU capitals:", 
            "cell_type": "markdown", 
            "metadata": {}
        }, 
        {
            "source": "List of EU capitals will be retrieved from https://www.countries-ofthe-world.com/capitals-of-europe.html", 
            "cell_type": "markdown", 
            "metadata": {}
        }, 
        {
            "source": "##### Using data:", 
            "cell_type": "markdown", 
            "metadata": {}
        }, 
        {
            "source": "Within all capitals of EU, we'll find the coffee shops matching the listed criteria and, as we did in the practice exercise, we'll use the kmeans agorithm to cluster, taking into consideration Opening hours, Rating, and Proximity to the city center. Capitals will be rated for the best to visit.", 
            "cell_type": "markdown", 
            "metadata": {}
        }, 
        {
            "source": "##### Example of data, Copenhagen downtown:", 
            "cell_type": "markdown", 
            "metadata": {}
        }, 
        {
            "source": "Type, Name, Address, Closing time, Rating:\n\nCoffee Shop | CUB Coffee Bar | Boldhusgade 6, K\u00e6lderen | 6 PM         |9.3     |", 
            "cell_type": "markdown", 
            "metadata": {}
        }, 
        {
            "source": "Comment: A coffee bar sounds great and the rating is amazing... however, it is not really for a late night coffee lover :( The hopes of this exercise is to find those rare cool places to visit in the evenings! ", 
            "cell_type": "markdown", 
            "metadata": {}
        }
    ], 
    "metadata": {
        "kernelspec": {
            "display_name": "Python 3.5", 
            "name": "python3", 
            "language": "python"
        }, 
        "language_info": {
            "mimetype": "text/x-python", 
            "nbconvert_exporter": "python", 
            "version": "3.5.5", 
            "name": "python", 
            "pygments_lexer": "ipython3", 
            "file_extension": ".py", 
            "codemirror_mode": {
                "version": 3, 
                "name": "ipython"
            }
        }
    }, 
    "nbformat": 4
}