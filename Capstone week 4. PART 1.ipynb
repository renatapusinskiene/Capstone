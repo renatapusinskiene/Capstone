{
    "nbformat_minor": 1, 
    "cells": [
        {
            "source": "## Capstone project. Week 4 PART 1", 
            "cell_type": "markdown", 
            "metadata": {
                "collapsed": true
            }
        }, 
        {
            "source": "### BUSINESS PROBLEM", 
            "cell_type": "markdown", 
            "metadata": {}
        }, 
        {
            "source": "This is a business problem for all late night coffee lovers. It has been discovered, that if one wants to find a high-end unique coffee place in later hours - not necessarily an easy task. The customer is a person who likes a good cup of coffee in the afterhours in a big city in EU, maybe a travelling business man, maybe a coffee enthusiast. This person does not want just to drop by Starbucks, instead, he or she is looking for something unique.", 
            "cell_type": "markdown", 
            "metadata": {}
        }, 
        {
            "source": "#### The following will summarize criteria (business problem requirements) for the data we will be interested in:", 
            "cell_type": "markdown", 
            "metadata": {}
        }, 
        {
            "source": "* Coffee shops need to work late hours (preferably until midnight. If that yields not enough data to work with - until 9pm)\n* Coffee shops need to be unique (not part of any branches)\n* Coffee shops need to have rating 9 or more to be worth the while\n* Coffee shops need to be placed in a big city in the EU", 
            "cell_type": "markdown", 
            "metadata": {}
        }, 
        {
            "source": "###### THE RESULT is expected to be an EU map with big cities in EU marked. Additionally, those cities need to be clustered to show which of them are the best to visit for such late night coffee.", 
            "cell_type": "markdown", 
            "metadata": {}
        }
    ], 
    "metadata": {
        "kernelspec": {
            "display_name": "Python 3.5", 
            "name": "python3", 
            "language": "python"
        }, 
        "language_info": {
            "mimetype": "text/x-python", 
            "nbconvert_exporter": "python", 
            "version": "3.5.5", 
            "name": "python", 
            "file_extension": ".py", 
            "pygments_lexer": "ipython3", 
            "codemirror_mode": {
                "version": 3, 
                "name": "ipython"
            }
        }
    }, 
    "nbformat": 4
}