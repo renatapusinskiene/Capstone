{
    "nbformat_minor": 1, 
    "cells": [
        {
            "source": "## NOTEBOOK on IBM Watson Studio shared via GitHub", 
            "cell_type": "markdown", 
            "metadata": {
                "collapsed": true
            }
        }, 
        {
            "source": "This notebook will be used for Applied Data Science Capstone Project week 3 assignment (this is part 1 - creating data framework, as per instructions for 10 points)", 
            "cell_type": "markdown", 
            "metadata": {}
        }, 
        {
            "source": "import pandas as pd\nimport numpy as np\nimport requests\nimport urllib.request\nfrom bs4 import BeautifulSoup\nimport lxml\n\nimport requests # library to handle requests\nfrom pandas.io.json import json_normalize # tranform JSON file into a pandas dataframe", 
            "cell_type": "code", 
            "metadata": {}, 
            "outputs": [], 
            "execution_count": 5
        }, 
        {
            "source": "Setting up the basics:", 
            "cell_type": "markdown", 
            "metadata": {}
        }, 
        {
            "source": "# Data will be retrieved from the given wiki page\nwikipedia_link_to_Canada_postal_codes='https://en.wikipedia.org/wiki/List_of_postal_codes_of_Canada:_M'\n# Request and sava data in 'page' object\npage = requests.get(wikipedia_link_to_Canada_postal_codes)\n# Use 'BeautifulSoup' tool to work with retrieved data\nsoup = BeautifulSoup(page.text, 'lxml')\n# Creating an empty data frame to store the data \ndf = pd.DataFrame()", 
            "cell_type": "code", 
            "metadata": {}, 
            "outputs": [], 
            "execution_count": 6
        }, 
        {
            "source": "Next, the data from the messy page needs to be retrieved. The needed data is in the only table within that page", 
            "cell_type": "markdown", 
            "metadata": {}
        }, 
        {
            "source": "# Finding the table in the page\nmatch_table = soup.find('table', class_='wikitable sortable')\n\n# Needed infrmation first will be collected in lists\nList_PostalCode = []\nList_Borough = []\nList_Neighborhood = []\n\n# The following cyclicly goes through each row of the table and collects information\ni=1\nfor match_element in match_table.find_all('td'):\n    if i==1: List_PostalCode.append(match_element.text)\n    if i==2: List_Borough.append(match_element.text)\n    if i==3: \n        List_Neighborhood.append(match_element.text)\n        i=0\n    i=i+1", 
            "cell_type": "code", 
            "metadata": {}, 
            "outputs": [], 
            "execution_count": 7
        }, 
        {
            "source": "Collected data lists are assigned to the data frame", 
            "cell_type": "markdown", 
            "metadata": {}
        }, 
        {
            "source": "df['PostalCode']=List_PostalCode\ndf['Borough']=List_Borough\ndf['Neighborhood']=List_Neighborhood", 
            "cell_type": "code", 
            "metadata": {}, 
            "outputs": [], 
            "execution_count": 8
        }, 
        {
            "source": "Next, transformations are applied to the data to form the data frame required by this exercise.", 
            "cell_type": "markdown", 
            "metadata": {}
        }, 
        {
            "source": "# Cleaning up neighbouhood names\nfor index, element in df.iterrows():\n    element['Neighborhood']=element['Neighborhood'].strip(\"\\n\")\n\n# Removing rows which do not have Boroughs assigned\n# Where neighbourhoods are not assigned, the Borough name is used\nfor index, element in df.iterrows():\n    if element['Borough'] == 'Not assigned': df=df.drop(index)\n    if element['Neighborhood'] == 'Not assigned': element['Neighborhood']=element['Borough']\n\n# Dataframe is reindexed\ndf = df.reset_index(drop=True)\n\n# Neighborboods under the same Boroughs are merged and separated by commas, as per example\ndf = df.groupby(['PostalCode','Borough'], sort=False, as_index=False).agg(', '.join)", 
            "cell_type": "code", 
            "metadata": {}, 
            "outputs": [], 
            "execution_count": 9
        }, 
        {
            "source": "Veryfying that the resulting data frame is as requested per exercise", 
            "cell_type": "markdown", 
            "metadata": {}
        }, 
        {
            "source": "df.head(12)", 
            "cell_type": "code", 
            "metadata": {}, 
            "outputs": [
                {
                    "output_type": "execute_result", 
                    "data": {
                        "text/html": "<div>\n<style scoped>\n    .dataframe tbody tr th:only-of-type {\n        vertical-align: middle;\n    }\n\n    .dataframe tbody tr th {\n        vertical-align: top;\n    }\n\n    .dataframe thead th {\n        text-align: right;\n    }\n</style>\n<table border=\"1\" class=\"dataframe\">\n  <thead>\n    <tr style=\"text-align: right;\">\n      <th></th>\n      <th>PostalCode</th>\n      <th>Borough</th>\n      <th>Neighborhood</th>\n    </tr>\n  </thead>\n  <tbody>\n    <tr>\n      <th>0</th>\n      <td>M3A</td>\n      <td>North York</td>\n      <td>Parkwoods</td>\n    </tr>\n    <tr>\n      <th>1</th>\n      <td>M4A</td>\n      <td>North York</td>\n      <td>Victoria Village</td>\n    </tr>\n    <tr>\n      <th>2</th>\n      <td>M5A</td>\n      <td>Downtown Toronto</td>\n      <td>Harbourfront, Regent Park</td>\n    </tr>\n    <tr>\n      <th>3</th>\n      <td>M6A</td>\n      <td>North York</td>\n      <td>Lawrence Heights, Lawrence Manor</td>\n    </tr>\n    <tr>\n      <th>4</th>\n      <td>M7A</td>\n      <td>Queen's Park</td>\n      <td>Not assigned</td>\n    </tr>\n    <tr>\n      <th>5</th>\n      <td>M9A</td>\n      <td>Etobicoke</td>\n      <td>Islington Avenue</td>\n    </tr>\n    <tr>\n      <th>6</th>\n      <td>M1B</td>\n      <td>Scarborough</td>\n      <td>Rouge, Malvern</td>\n    </tr>\n    <tr>\n      <th>7</th>\n      <td>M3B</td>\n      <td>North York</td>\n      <td>Don Mills North</td>\n    </tr>\n    <tr>\n      <th>8</th>\n      <td>M4B</td>\n      <td>East York</td>\n      <td>Woodbine Gardens, Parkview Hill</td>\n    </tr>\n    <tr>\n      <th>9</th>\n      <td>M5B</td>\n      <td>Downtown Toronto</td>\n      <td>Ryerson, Garden District</td>\n    </tr>\n    <tr>\n      <th>10</th>\n      <td>M6B</td>\n      <td>North York</td>\n      <td>Glencairn</td>\n    </tr>\n    <tr>\n      <th>11</th>\n      <td>M9B</td>\n      <td>Etobicoke</td>\n      <td>Cloverdale, Islington, Martin Grove, Princess ...</td>\n    </tr>\n  </tbody>\n</table>\n</div>", 
                        "text/plain": "   PostalCode           Borough  \\\n0         M3A        North York   \n1         M4A        North York   \n2         M5A  Downtown Toronto   \n3         M6A        North York   \n4         M7A      Queen's Park   \n5         M9A         Etobicoke   \n6         M1B       Scarborough   \n7         M3B        North York   \n8         M4B         East York   \n9         M5B  Downtown Toronto   \n10        M6B        North York   \n11        M9B         Etobicoke   \n\n                                         Neighborhood  \n0                                           Parkwoods  \n1                                    Victoria Village  \n2                           Harbourfront, Regent Park  \n3                    Lawrence Heights, Lawrence Manor  \n4                                        Not assigned  \n5                                    Islington Avenue  \n6                                      Rouge, Malvern  \n7                                     Don Mills North  \n8                     Woodbine Gardens, Parkview Hill  \n9                            Ryerson, Garden District  \n10                                          Glencairn  \n11  Cloverdale, Islington, Martin Grove, Princess ...  "
                    }, 
                    "execution_count": 11, 
                    "metadata": {}
                }
            ], 
            "execution_count": 11
        }, 
        {
            "source": "df.shape", 
            "cell_type": "code", 
            "metadata": {}, 
            "outputs": [
                {
                    "output_type": "execute_result", 
                    "data": {
                        "text/plain": "(103, 3)"
                    }, 
                    "execution_count": 13, 
                    "metadata": {}
                }
            ], 
            "execution_count": 13
        }
    ], 
    "metadata": {
        "kernelspec": {
            "display_name": "Python 3.5", 
            "name": "python3", 
            "language": "python"
        }, 
        "language_info": {
            "mimetype": "text/x-python", 
            "nbconvert_exporter": "python", 
            "version": "3.5.5", 
            "name": "python", 
            "file_extension": ".py", 
            "pygments_lexer": "ipython3", 
            "codemirror_mode": {
                "version": 3, 
                "name": "ipython"
            }
        }
    }, 
    "nbformat": 4
}